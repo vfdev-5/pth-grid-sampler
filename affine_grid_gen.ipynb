{
 "cells": [
  {
   "cell_type": "code",
   "execution_count": null,
   "id": "35aa88fb-7317-4843-a702-25047f19a5d5",
   "metadata": {},
   "outputs": [],
   "source": []
  },
  {
   "cell_type": "code",
   "execution_count": 34,
   "id": "f10647e3-b2c0-42c4-90c8-3ad3cadd7552",
   "metadata": {},
   "outputs": [],
   "source": [
    "import torch\n",
    "\n",
    "theta = torch.tensor([\n",
    "    [1.1, 1.2, 0.3],\n",
    "    [1.4, 1.5, 0.6],\n",
    "])[None, :, :]\n",
    "\n",
    "size = (1, 1, 32, 32)\n",
    "\n",
    "grid = torch.affine_grid_generator(theta, size, align_corners=False)"
   ]
  },
  {
   "cell_type": "code",
   "execution_count": 35,
   "id": "bb13313e-7772-4455-8298-afdaef2b17b4",
   "metadata": {},
   "outputs": [],
   "source": [
    "img = torch.zeros(1, 1, 32, 32)\n",
    "img[0, 0, 10:24, 10:24] = 1.0"
   ]
  },
  {
   "cell_type": "code",
   "execution_count": 36,
   "id": "0ed557e5-c347-47b8-a620-922ded0a0899",
   "metadata": {},
   "outputs": [],
   "source": [
    "from torch.nn.functional import grid_sample\n",
    "\n",
    "mode = \"bilinear\"\n",
    "out = grid_sample(img, grid, mode=mode, padding_mode=\"zeros\", align_corners=False)"
   ]
  },
  {
   "cell_type": "code",
   "execution_count": 37,
   "id": "e87aaca2-af0c-4030-adb4-059e1c266040",
   "metadata": {},
   "outputs": [
    {
     "data": {
      "text/plain": [
       "<matplotlib.image.AxesImage at 0x7f0aa922b910>"
      ]
     },
     "execution_count": 37,
     "metadata": {},
     "output_type": "execute_result"
    },
    {
     "data": {
      "image/png": "[encoded data removed]",
      "text/plain": [
       "<Figure size 864x504 with 2 Axes>"
      ]
     },
     "metadata": {
      "needs_background": "light"
     },
     "output_type": "display_data"
    }
   ],
   "source": [
    "import matplotlib.pyplot as plt\n",
    "%matplotlib inline\n",
    "\n",
    "\n",
    "plt.figure(figsize=(12, 7))\n",
    "plt.subplot(121)\n",
    "plt.imshow(img[0, 0, ...])\n",
    "plt.subplot(122)\n",
    "plt.imshow(out[0, 0, ...])"
   ]
  },
  {
   "cell_type": "code",
   "execution_count": null,
   "id": "c1fe6a79-3c14-4baa-8ee0-ec934ec6e5e6",
   "metadata": {},
   "outputs": [],
   "source": []
  },
  {
   "cell_type": "code",
   "execution_count": null,
   "id": "c4b15861-be82-407e-85d0-81ee6732941b",
   "metadata": {},
   "outputs": [],
   "source": []
  }
 ],
 "metadata": {
  "kernelspec": {
   "display_name": "Python 3 (ipykernel)",
   "language": "python",
   "name": "python3"
  },
  "language_info": {
   "codemirror_mode": {
    "name": "ipython",
    "version": 3
   },
   "file_extension": ".py",
   "mimetype": "text/x-python",
   "name": "python",
   "nbconvert_exporter": "python",
   "pygments_lexer": "ipython3",
   "version": "3.9.7"
  }
 },
 "nbformat": 4,
 "nbformat_minor": 5
}
